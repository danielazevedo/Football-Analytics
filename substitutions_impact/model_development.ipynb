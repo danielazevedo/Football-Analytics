{
 "cells": [
  {
   "cell_type": "markdown",
   "metadata": {},
   "source": [
    "# Model\n",
    "\n",
    "In this notebook, the data extracted in *data_extraction* notebook will be used to try to predict the rating of a given player, given a specific game scenario (defined by the game stats up to the moment).\n",
    "\n",
    "An analysis of feature importance will also be made."
   ]
  },
  {
   "cell_type": "code",
   "execution_count": 377,
   "metadata": {},
   "outputs": [],
   "source": [
    "import pickle\n",
    "import pandas as pd\n",
    "import numpy as np\n",
    "\n",
    "import matplotlib.pyplot as plt\n",
    "\n",
    "from sklearn.model_selection import train_test_split, GroupShuffleSplit\n",
    "\n",
    "from sklearn.preprocessing import LabelEncoder, OneHotEncoder\n",
    "from sklearn.decomposition import PCA\n",
    "from sklearn.linear_model import LinearRegression\n",
    "from sklearn.svm import SVR\n",
    "from sklearn.metrics import mean_squared_error\n",
    "\n",
    "from collections import Counter"
   ]
  },
  {
   "cell_type": "markdown",
   "metadata": {},
   "source": [
    "## Load data"
   ]
  },
  {
   "cell_type": "code",
   "execution_count": 417,
   "metadata": {},
   "outputs": [
    {
     "data": {
      "text/html": [
       "<div>\n",
       "<style scoped>\n",
       "    .dataframe tbody tr th:only-of-type {\n",
       "        vertical-align: middle;\n",
       "    }\n",
       "\n",
       "    .dataframe tbody tr th {\n",
       "        vertical-align: top;\n",
       "    }\n",
       "\n",
       "    .dataframe thead th {\n",
       "        text-align: right;\n",
       "    }\n",
       "</style>\n",
       "<table border=\"1\" class=\"dataframe\">\n",
       "  <thead>\n",
       "    <tr style=\"text-align: right;\">\n",
       "      <th></th>\n",
       "      <th>shots_before_norm</th>\n",
       "      <th>shots_goals_before</th>\n",
       "      <th>shots_opp_before_norm</th>\n",
       "      <th>passes_all_before_norm</th>\n",
       "      <th>passes_keys_before_norm</th>\n",
       "      <th>passes_crosses_before_norm</th>\n",
       "      <th>passes_assists_before</th>\n",
       "      <th>passes_opp_before_norm</th>\n",
       "      <th>freekicks_before</th>\n",
       "      <th>corners_before</th>\n",
       "      <th>...</th>\n",
       "      <th>save_attempts_before_norm</th>\n",
       "      <th>clearances_before_norm</th>\n",
       "      <th>shots_goals_against_before</th>\n",
       "      <th>min</th>\n",
       "      <th>other_team</th>\n",
       "      <th>player_name</th>\n",
       "      <th>player_role</th>\n",
       "      <th>home</th>\n",
       "      <th>diff_goals</th>\n",
       "      <th>rating</th>\n",
       "    </tr>\n",
       "  </thead>\n",
       "  <tbody>\n",
       "    <tr>\n",
       "      <th>0</th>\n",
       "      <td>9.15</td>\n",
       "      <td>0</td>\n",
       "      <td>4.58</td>\n",
       "      <td>675.76</td>\n",
       "      <td>1.53</td>\n",
       "      <td>22.88</td>\n",
       "      <td>0</td>\n",
       "      <td>0.0</td>\n",
       "      <td>32</td>\n",
       "      <td>5</td>\n",
       "      <td>...</td>\n",
       "      <td>0.00</td>\n",
       "      <td>15.25</td>\n",
       "      <td>0</td>\n",
       "      <td>59</td>\n",
       "      <td>Southampton</td>\n",
       "      <td>G. Jesus</td>\n",
       "      <td>Forward</td>\n",
       "      <td>False</td>\n",
       "      <td>0</td>\n",
       "      <td>7.04</td>\n",
       "    </tr>\n",
       "    <tr>\n",
       "      <th>1</th>\n",
       "      <td>11.54</td>\n",
       "      <td>0</td>\n",
       "      <td>6.92</td>\n",
       "      <td>600.00</td>\n",
       "      <td>1.15</td>\n",
       "      <td>23.08</td>\n",
       "      <td>0</td>\n",
       "      <td>0.0</td>\n",
       "      <td>41</td>\n",
       "      <td>9</td>\n",
       "      <td>...</td>\n",
       "      <td>1.15</td>\n",
       "      <td>18.46</td>\n",
       "      <td>0</td>\n",
       "      <td>78</td>\n",
       "      <td>Southampton</td>\n",
       "      <td>B. Diaz</td>\n",
       "      <td>Midfielder</td>\n",
       "      <td>False</td>\n",
       "      <td>0</td>\n",
       "      <td>6.03</td>\n",
       "    </tr>\n",
       "    <tr>\n",
       "      <th>2</th>\n",
       "      <td>10.98</td>\n",
       "      <td>0</td>\n",
       "      <td>6.59</td>\n",
       "      <td>574.02</td>\n",
       "      <td>1.10</td>\n",
       "      <td>21.95</td>\n",
       "      <td>0</td>\n",
       "      <td>0.0</td>\n",
       "      <td>43</td>\n",
       "      <td>9</td>\n",
       "      <td>...</td>\n",
       "      <td>1.10</td>\n",
       "      <td>17.56</td>\n",
       "      <td>0</td>\n",
       "      <td>82</td>\n",
       "      <td>Southampton</td>\n",
       "      <td>P. Foden</td>\n",
       "      <td>Midfielder</td>\n",
       "      <td>False</td>\n",
       "      <td>0</td>\n",
       "      <td>6.12</td>\n",
       "    </tr>\n",
       "    <tr>\n",
       "      <th>3</th>\n",
       "      <td>18.95</td>\n",
       "      <td>3</td>\n",
       "      <td>14.21</td>\n",
       "      <td>819.47</td>\n",
       "      <td>4.74</td>\n",
       "      <td>18.95</td>\n",
       "      <td>3</td>\n",
       "      <td>0.0</td>\n",
       "      <td>30</td>\n",
       "      <td>4</td>\n",
       "      <td>...</td>\n",
       "      <td>7.11</td>\n",
       "      <td>22.50</td>\n",
       "      <td>1</td>\n",
       "      <td>76</td>\n",
       "      <td>Brighton &amp; Hove Albion</td>\n",
       "      <td>B. Mendy</td>\n",
       "      <td>Defender</td>\n",
       "      <td>True</td>\n",
       "      <td>2</td>\n",
       "      <td>6.27</td>\n",
       "    </tr>\n",
       "    <tr>\n",
       "      <th>4</th>\n",
       "      <td>18.43</td>\n",
       "      <td>3</td>\n",
       "      <td>14.10</td>\n",
       "      <td>808.92</td>\n",
       "      <td>5.42</td>\n",
       "      <td>17.35</td>\n",
       "      <td>3</td>\n",
       "      <td>0.0</td>\n",
       "      <td>32</td>\n",
       "      <td>4</td>\n",
       "      <td>...</td>\n",
       "      <td>7.59</td>\n",
       "      <td>20.60</td>\n",
       "      <td>1</td>\n",
       "      <td>83</td>\n",
       "      <td>Brighton &amp; Hove Albion</td>\n",
       "      <td>B. Diaz</td>\n",
       "      <td>Midfielder</td>\n",
       "      <td>True</td>\n",
       "      <td>2</td>\n",
       "      <td>6.09</td>\n",
       "    </tr>\n",
       "  </tbody>\n",
       "</table>\n",
       "<p>5 rows × 23 columns</p>\n",
       "</div>"
      ],
      "text/plain": [
       "   shots_before_norm  shots_goals_before  shots_opp_before_norm  \\\n",
       "0               9.15                   0                   4.58   \n",
       "1              11.54                   0                   6.92   \n",
       "2              10.98                   0                   6.59   \n",
       "3              18.95                   3                  14.21   \n",
       "4              18.43                   3                  14.10   \n",
       "\n",
       "   passes_all_before_norm  passes_keys_before_norm  \\\n",
       "0                  675.76                     1.53   \n",
       "1                  600.00                     1.15   \n",
       "2                  574.02                     1.10   \n",
       "3                  819.47                     4.74   \n",
       "4                  808.92                     5.42   \n",
       "\n",
       "   passes_crosses_before_norm  passes_assists_before  passes_opp_before_norm  \\\n",
       "0                       22.88                      0                     0.0   \n",
       "1                       23.08                      0                     0.0   \n",
       "2                       21.95                      0                     0.0   \n",
       "3                       18.95                      3                     0.0   \n",
       "4                       17.35                      3                     0.0   \n",
       "\n",
       "   freekicks_before  corners_before  ...  save_attempts_before_norm  \\\n",
       "0                32               5  ...                       0.00   \n",
       "1                41               9  ...                       1.15   \n",
       "2                43               9  ...                       1.10   \n",
       "3                30               4  ...                       7.11   \n",
       "4                32               4  ...                       7.59   \n",
       "\n",
       "   clearances_before_norm  shots_goals_against_before  min  \\\n",
       "0                   15.25                           0   59   \n",
       "1                   18.46                           0   78   \n",
       "2                   17.56                           0   82   \n",
       "3                   22.50                           1   76   \n",
       "4                   20.60                           1   83   \n",
       "\n",
       "               other_team  player_name  player_role   home diff_goals rating  \n",
       "0             Southampton     G. Jesus      Forward  False          0   7.04  \n",
       "1             Southampton      B. Diaz   Midfielder  False          0   6.03  \n",
       "2             Southampton     P. Foden   Midfielder  False          0   6.12  \n",
       "3  Brighton & Hove Albion     B. Mendy     Defender   True          2   6.27  \n",
       "4  Brighton & Hove Albion      B. Diaz   Midfielder   True          2   6.09  \n",
       "\n",
       "[5 rows x 23 columns]"
      ]
     },
     "execution_count": 417,
     "metadata": {},
     "output_type": "execute_result"
    }
   ],
   "source": [
    "with open('stats_df.pickle', 'rb') as handle:\n",
    "    stats_df = pickle.load(handle)\n",
    "\n",
    "stats_df.head()"
   ]
  },
  {
   "cell_type": "code",
   "execution_count": null,
   "metadata": {},
   "outputs": [],
   "source": []
  },
  {
   "cell_type": "markdown",
   "metadata": {},
   "source": [
    "## EDA\n",
    "\n",
    "A set of specific analysis, with respect to particula features, is going to be performed"
   ]
  },
  {
   "cell_type": "code",
   "execution_count": null,
   "metadata": {},
   "outputs": [],
   "source": []
  },
  {
   "cell_type": "markdown",
   "metadata": {},
   "source": [
    "**Substitutions time**"
   ]
  },
  {
   "cell_type": "code",
   "execution_count": 327,
   "metadata": {},
   "outputs": [
    {
     "data": {
      "image/png": "[encoded data removed]",
      "text/plain": [
       "<Figure size 864x432 with 1 Axes>"
      ]
     },
     "metadata": {},
     "output_type": "display_data"
    }
   ],
   "source": [
    "plt.figure(figsize=(12, 6))\n",
    "plt.hist(pd.to_numeric(stats_df[\"min\"]))\n",
    "plt.xlabel('Minute')\n",
    "plt.ylabel('Frequency')\n",
    "plt.show()"
   ]
  },
  {
   "cell_type": "markdown",
   "metadata": {},
   "source": [
    "Substitiuions are clearly more shifted towards the end of the game"
   ]
  },
  {
   "cell_type": "code",
   "execution_count": null,
   "metadata": {},
   "outputs": [],
   "source": []
  },
  {
   "cell_type": "markdown",
   "metadata": {},
   "source": [
    "**Moment of substitution vs current goal difference**"
   ]
  },
  {
   "cell_type": "code",
   "execution_count": 435,
   "metadata": {},
   "outputs": [
    {
     "data": {
      "image/png": "[encoded data removed]",
      "text/plain": [
       "<Figure size 1080x720 with 2 Axes>"
      ]
     },
     "metadata": {},
     "output_type": "display_data"
    }
   ],
   "source": [
    "plt.figure(figsize=(15, 10))\n",
    "plt.hist2d(stats_df['diff_goals'], stats_df['min'], bins=9, cmap=\"Blues\")\n",
    "plt.colorbar()\n",
    "plt.xlabel('Goal Difference')\n",
    "plt.ylabel('Minutes')\n",
    "plt.show()"
   ]
  },
  {
   "cell_type": "markdown",
   "metadata": {},
   "source": [
    "Moment of substitution tends to be closer to the end of the game, without any significant correlation with the goals difference."
   ]
  },
  {
   "cell_type": "code",
   "execution_count": null,
   "metadata": {},
   "outputs": [],
   "source": []
  },
  {
   "cell_type": "markdown",
   "metadata": {},
   "source": [
    "**Need of substitutions to change the game**"
   ]
  },
  {
   "cell_type": "code",
   "execution_count": 332,
   "metadata": {},
   "outputs": [
    {
     "data": {
      "image/png": "[encoded data removed]",
      "text/plain": [
       "<Figure size 864x432 with 1 Axes>"
      ]
     },
     "metadata": {},
     "output_type": "display_data"
    },
    {
     "name": "stdout",
     "output_type": "stream",
     "text": [
      "Number of games winning at subs time:  0.6886792452830188\n"
     ]
    }
   ],
   "source": [
    "plt.figure(figsize=(12, 6))\n",
    "plt.hist(pd.to_numeric(stats_df[\"diff_goals\"]), 8)\n",
    "#stats_df['diff_goals'].value_counts().plot(kind='bar', figsize=(7, 6), rot=0)\n",
    "plt.xlabel('Diff Goals')\n",
    "plt.ylabel('Frequency')\n",
    "plt.show()\n",
    "\n",
    "print(\"Number of games winning at substitution time: \", sum(stats_df['diff_goals']>0)/len(stats_df))"
   ]
  },
  {
   "cell_type": "markdown",
   "metadata": {},
   "source": [
    "The majority of the substitutions were made when the team was winning, which proves the team superiority in this season.\n",
    "\n",
    "This means that, the team realy did not depended on substitutions to solve a solve a game, as normally there were already with the advantage on the scoreline"
   ]
  },
  {
   "cell_type": "code",
   "execution_count": null,
   "metadata": {},
   "outputs": [],
   "source": []
  },
  {
   "cell_type": "markdown",
   "metadata": {},
   "source": [
    "**Types of substitutions (type of player vs goals diff)**"
   ]
  },
  {
   "cell_type": "code",
   "execution_count": 399,
   "metadata": {},
   "outputs": [
    {
     "data": {
      "image/png": "[encoded data removed]",
      "text/plain": [
       "<Figure size 1080x720 with 2 Axes>"
      ]
     },
     "metadata": {},
     "output_type": "display_data"
    }
   ],
   "source": [
    "stats_df = stats_df[(stats_df['min'] > 45) & (stats_df['min'] < 87)]\n",
    "\n",
    "\n",
    "def label_func(x):\n",
    "    if x == 'Goalkeeper':\n",
    "        return 0\n",
    "    elif x == 'Defender':\n",
    "        return 1\n",
    "    elif x == 'Midfielder':\n",
    "        return 2\n",
    "    else:\n",
    "        return 3\n",
    "\n",
    "p_role = stats_df['player_role'].apply(label_func)\n",
    "diff_goals = stats_df['diff_goals']\n",
    "\n",
    "#plt.scatter(diff_goals, p_role)\n",
    "#plt.show()\n",
    "\n",
    "plt.figure(figsize=(15, 10))\n",
    "plt.hist2d(stats_df['diff_goals'], p_role, bins=25, cmap=\"Blues\")\n",
    "plt.colorbar()\n",
    "plt.yticks(p_role, stats_df['player_role'][:5])\n",
    "plt.xlabel('Goal Difference')\n",
    "plt.ylabel('Player Position')\n",
    "plt.show()"
   ]
  },
  {
   "cell_type": "markdown",
   "metadata": {},
   "source": [
    "We can see that midfielders are the ones replaced more frequently, independently of the game score. Contrary to what is the general belief, there was not a clear idea to put defender when the team is winning and put forwards when team is losing.\n",
    "As demonstrated below, the players that enter the game are generally the same."
   ]
  },
  {
   "cell_type": "code",
   "execution_count": 427,
   "metadata": {},
   "outputs": [
    {
     "data": {
      "text/plain": [
       "player_name\n",
       "G. Jesus       5\n",
       "B. Silva       5\n",
       "D. Danilo      4\n",
       "S. Aguero      3\n",
       "I. Gundogan    3\n",
       "R. Sterling    2\n",
       "L. Sane        2\n",
       "Y. Toure       1\n",
       "P. Foden       1\n",
       "N. Otamendi    1\n",
       "K. Bruyne      1\n",
       "J. Stones      1\n",
       "E. Mangala     1\n",
       "D. Silva       1\n",
       "B. Mendy       1\n",
       "B. Diaz        1\n",
       "dtype: int64"
      ]
     },
     "execution_count": 427,
     "metadata": {},
     "output_type": "execute_result"
    }
   ],
   "source": [
    "stats_df[(stats_df['diff_goals'] <= 0)].groupby(['player_name']).size().sort_values()[::-1]"
   ]
  },
  {
   "cell_type": "code",
   "execution_count": 434,
   "metadata": {},
   "outputs": [
    {
     "data": {
      "text/plain": [
       "player_name\n",
       "B. Silva       4\n",
       "Y. Toure       1\n",
       "P. Foden       1\n",
       "I. Gundogan    1\n",
       "E. Mangala     1\n",
       "D. Danilo      1\n",
       "B. Diaz        1\n",
       "dtype: int64"
      ]
     },
     "execution_count": 434,
     "metadata": {},
     "output_type": "execute_result"
    }
   ],
   "source": [
    "stats_df[(stats_df['diff_goals'] == 1) & (stats_df['min'] > 85)].groupby(['player_name']).size().sort_values()[::-1]"
   ]
  },
  {
   "cell_type": "code",
   "execution_count": null,
   "metadata": {},
   "outputs": [],
   "source": []
  },
  {
   "cell_type": "markdown",
   "metadata": {},
   "source": [
    "**Rating distribution**"
   ]
  },
  {
   "cell_type": "code",
   "execution_count": 436,
   "metadata": {},
   "outputs": [
    {
     "data": {
      "image/png": "[encoded data removed]",
      "text/plain": [
       "<Figure size 864x432 with 1 Axes>"
      ]
     },
     "metadata": {},
     "output_type": "display_data"
    }
   ],
   "source": [
    "plt.figure(figsize=(12, 6))\n",
    "plt.hist(pd.to_numeric(stats_df[\"rating\"]), 10)\n",
    "plt.xlabel('Rating')\n",
    "plt.ylabel('Frequency')\n",
    "plt.show()"
   ]
  },
  {
   "cell_type": "code",
   "execution_count": 439,
   "metadata": {},
   "outputs": [
    {
     "data": {
      "image/png": "[encoded data removed]",
      "text/plain": [
       "<Figure size 432x288 with 1 Axes>"
      ]
     },
     "metadata": {},
     "output_type": "display_data"
    }
   ],
   "source": [
    "plt.scatter(stats_df['min'], pd.to_numeric(stats_df[\"rating\"]))\n",
    "plt.xlabel('minute')\n",
    "plt.ylabel('Rating')\n",
    "plt.show()"
   ]
  },
  {
   "cell_type": "markdown",
   "metadata": {},
   "source": [
    "Ratings closer to 6 are related to substitutions closer to the end of the game.\n",
    "\n",
    "This clearly shows that the rating of 6 corresponds to a baseline, and depending on the player performance during the time he was on the pitch, it could go down or up"
   ]
  },
  {
   "cell_type": "code",
   "execution_count": null,
   "metadata": {},
   "outputs": [],
   "source": []
  },
  {
   "cell_type": "code",
   "execution_count": 200,
   "metadata": {},
   "outputs": [
    {
     "data": {
      "text/plain": [
       "0"
      ]
     },
     "execution_count": 200,
     "metadata": {},
     "output_type": "execute_result"
    }
   ],
   "source": [
    "# missing values\n",
    "\n",
    "stats_df.isna().sum().sum()"
   ]
  },
  {
   "cell_type": "code",
   "execution_count": null,
   "metadata": {},
   "outputs": [],
   "source": []
  },
  {
   "cell_type": "markdown",
   "metadata": {},
   "source": [
    "**Stats distribution**"
   ]
  },
  {
   "cell_type": "code",
   "execution_count": 461,
   "metadata": {},
   "outputs": [
    {
     "data": {
      "image/png": "[encoded data removed]",
      "text/plain": [
       "<Figure size 1080x1080 with 16 Axes>"
      ]
     },
     "metadata": {},
     "output_type": "display_data"
    }
   ],
   "source": [
    "from pandas.plotting import scatter_matrix\n",
    "\n",
    "X_train.iloc[:, :16].hist(figsize=(15, 15))\n",
    "plt.show()"
   ]
  },
  {
   "cell_type": "code",
   "execution_count": null,
   "metadata": {},
   "outputs": [],
   "source": []
  },
  {
   "cell_type": "markdown",
   "metadata": {},
   "source": [
    "## Data Split"
   ]
  },
  {
   "cell_type": "code",
   "execution_count": 400,
   "metadata": {},
   "outputs": [],
   "source": [
    "X = stats_df.drop(['rating'], axis=1)\n",
    "y = stats_df['rating'].values\n",
    "\n",
    "\n",
    "group_split = GroupShuffleSplit(n_splits=1, test_size=0.15, random_state=42)\n",
    "for train_index, test_index in group_split.split(X, y, stats_df['other_team']):\n",
    "    X_train, X_test = X.iloc[train_index, :], X.iloc[test_index, :]\n",
    "    y_train, y_test = y[train_index], y[test_index]\n",
    "\n",
    "X_train.reset_index(drop=True, inplace=True)\n",
    "X_test.reset_index(drop=True, inplace=True)"
   ]
  },
  {
   "cell_type": "code",
   "execution_count": null,
   "metadata": {},
   "outputs": [],
   "source": []
  },
  {
   "cell_type": "markdown",
   "metadata": {},
   "source": [
    "**Feature Engineering**"
   ]
  },
  {
   "cell_type": "code",
   "execution_count": 401,
   "metadata": {},
   "outputs": [
    {
     "name": "stderr",
     "output_type": "stream",
     "text": [
      "/Users/danielazevedo/anaconda3/lib/python3.6/site-packages/pandas/core/frame.py:4117: SettingWithCopyWarning: \n",
      "A value is trying to be set on a copy of a slice from a DataFrame\n",
      "\n",
      "See the caveats in the documentation: http://pandas.pydata.org/pandas-docs/stable/user_guide/indexing.html#returning-a-view-versus-a-copy\n",
      "  errors=errors,\n"
     ]
    }
   ],
   "source": [
    "X_train.drop(['home', 'other_team', 'shots_goals_before', 'shots_goals_against_before'], axis=1, inplace=True)\n",
    "X_test.drop(['home', 'other_team', 'shots_goals_before', 'shots_goals_against_before'], axis=1, inplace=True)\n"
   ]
  },
  {
   "cell_type": "code",
   "execution_count": 402,
   "metadata": {},
   "outputs": [
    {
     "data": {
      "text/html": [
       "<div>\n",
       "<style scoped>\n",
       "    .dataframe tbody tr th:only-of-type {\n",
       "        vertical-align: middle;\n",
       "    }\n",
       "\n",
       "    .dataframe tbody tr th {\n",
       "        vertical-align: top;\n",
       "    }\n",
       "\n",
       "    .dataframe thead th {\n",
       "        text-align: right;\n",
       "    }\n",
       "</style>\n",
       "<table border=\"1\" class=\"dataframe\">\n",
       "  <thead>\n",
       "    <tr style=\"text-align: right;\">\n",
       "      <th></th>\n",
       "      <th>shots_before_norm</th>\n",
       "      <th>shots_opp_before_norm</th>\n",
       "      <th>passes_all_before_norm</th>\n",
       "      <th>passes_keys_before_norm</th>\n",
       "      <th>passes_crosses_before_norm</th>\n",
       "      <th>passes_assists_before</th>\n",
       "      <th>passes_opp_before_norm</th>\n",
       "      <th>freekicks_before</th>\n",
       "      <th>corners_before</th>\n",
       "      <th>accelerations_before_norm</th>\n",
       "      <th>yellow_cards_before</th>\n",
       "      <th>red_cards_before</th>\n",
       "      <th>save_attempts_before_norm</th>\n",
       "      <th>clearances_before_norm</th>\n",
       "      <th>min</th>\n",
       "      <th>player_name</th>\n",
       "      <th>player_role</th>\n",
       "      <th>diff_goals</th>\n",
       "    </tr>\n",
       "  </thead>\n",
       "  <tbody>\n",
       "    <tr>\n",
       "      <th>0</th>\n",
       "      <td>9.15</td>\n",
       "      <td>4.58</td>\n",
       "      <td>675.76</td>\n",
       "      <td>1.53</td>\n",
       "      <td>22.88</td>\n",
       "      <td>0</td>\n",
       "      <td>0.0</td>\n",
       "      <td>32</td>\n",
       "      <td>5</td>\n",
       "      <td>9.15</td>\n",
       "      <td>0</td>\n",
       "      <td>0</td>\n",
       "      <td>0.00</td>\n",
       "      <td>15.25</td>\n",
       "      <td>59</td>\n",
       "      <td>G. Jesus</td>\n",
       "      <td>Forward</td>\n",
       "      <td>0</td>\n",
       "    </tr>\n",
       "    <tr>\n",
       "      <th>1</th>\n",
       "      <td>11.54</td>\n",
       "      <td>6.92</td>\n",
       "      <td>600.00</td>\n",
       "      <td>1.15</td>\n",
       "      <td>23.08</td>\n",
       "      <td>0</td>\n",
       "      <td>0.0</td>\n",
       "      <td>41</td>\n",
       "      <td>9</td>\n",
       "      <td>9.23</td>\n",
       "      <td>1</td>\n",
       "      <td>0</td>\n",
       "      <td>1.15</td>\n",
       "      <td>18.46</td>\n",
       "      <td>78</td>\n",
       "      <td>B. Diaz</td>\n",
       "      <td>Midfielder</td>\n",
       "      <td>0</td>\n",
       "    </tr>\n",
       "    <tr>\n",
       "      <th>2</th>\n",
       "      <td>10.98</td>\n",
       "      <td>6.59</td>\n",
       "      <td>574.02</td>\n",
       "      <td>1.10</td>\n",
       "      <td>21.95</td>\n",
       "      <td>0</td>\n",
       "      <td>0.0</td>\n",
       "      <td>43</td>\n",
       "      <td>9</td>\n",
       "      <td>8.78</td>\n",
       "      <td>1</td>\n",
       "      <td>0</td>\n",
       "      <td>1.10</td>\n",
       "      <td>17.56</td>\n",
       "      <td>82</td>\n",
       "      <td>P. Foden</td>\n",
       "      <td>Midfielder</td>\n",
       "      <td>0</td>\n",
       "    </tr>\n",
       "    <tr>\n",
       "      <th>3</th>\n",
       "      <td>18.95</td>\n",
       "      <td>14.21</td>\n",
       "      <td>819.47</td>\n",
       "      <td>4.74</td>\n",
       "      <td>18.95</td>\n",
       "      <td>3</td>\n",
       "      <td>0.0</td>\n",
       "      <td>30</td>\n",
       "      <td>4</td>\n",
       "      <td>4.74</td>\n",
       "      <td>1</td>\n",
       "      <td>0</td>\n",
       "      <td>7.11</td>\n",
       "      <td>22.50</td>\n",
       "      <td>76</td>\n",
       "      <td>B. Mendy</td>\n",
       "      <td>Defender</td>\n",
       "      <td>2</td>\n",
       "    </tr>\n",
       "    <tr>\n",
       "      <th>4</th>\n",
       "      <td>18.43</td>\n",
       "      <td>14.10</td>\n",
       "      <td>808.92</td>\n",
       "      <td>5.42</td>\n",
       "      <td>17.35</td>\n",
       "      <td>3</td>\n",
       "      <td>0.0</td>\n",
       "      <td>32</td>\n",
       "      <td>4</td>\n",
       "      <td>4.34</td>\n",
       "      <td>1</td>\n",
       "      <td>0</td>\n",
       "      <td>7.59</td>\n",
       "      <td>20.60</td>\n",
       "      <td>83</td>\n",
       "      <td>B. Diaz</td>\n",
       "      <td>Midfielder</td>\n",
       "      <td>2</td>\n",
       "    </tr>\n",
       "    <tr>\n",
       "      <th>...</th>\n",
       "      <td>...</td>\n",
       "      <td>...</td>\n",
       "      <td>...</td>\n",
       "      <td>...</td>\n",
       "      <td>...</td>\n",
       "      <td>...</td>\n",
       "      <td>...</td>\n",
       "      <td>...</td>\n",
       "      <td>...</td>\n",
       "      <td>...</td>\n",
       "      <td>...</td>\n",
       "      <td>...</td>\n",
       "      <td>...</td>\n",
       "      <td>...</td>\n",
       "      <td>...</td>\n",
       "      <td>...</td>\n",
       "      <td>...</td>\n",
       "      <td>...</td>\n",
       "    </tr>\n",
       "    <tr>\n",
       "      <th>68</th>\n",
       "      <td>16.62</td>\n",
       "      <td>12.46</td>\n",
       "      <td>481.85</td>\n",
       "      <td>5.54</td>\n",
       "      <td>9.69</td>\n",
       "      <td>0</td>\n",
       "      <td>0.0</td>\n",
       "      <td>42</td>\n",
       "      <td>5</td>\n",
       "      <td>5.54</td>\n",
       "      <td>2</td>\n",
       "      <td>0</td>\n",
       "      <td>6.92</td>\n",
       "      <td>19.38</td>\n",
       "      <td>65</td>\n",
       "      <td>D. Danilo</td>\n",
       "      <td>Defender</td>\n",
       "      <td>-1</td>\n",
       "    </tr>\n",
       "    <tr>\n",
       "      <th>69</th>\n",
       "      <td>15.65</td>\n",
       "      <td>11.74</td>\n",
       "      <td>487.83</td>\n",
       "      <td>5.22</td>\n",
       "      <td>9.13</td>\n",
       "      <td>0</td>\n",
       "      <td>0.0</td>\n",
       "      <td>46</td>\n",
       "      <td>5</td>\n",
       "      <td>6.52</td>\n",
       "      <td>2</td>\n",
       "      <td>0</td>\n",
       "      <td>6.52</td>\n",
       "      <td>19.57</td>\n",
       "      <td>69</td>\n",
       "      <td>B. Silva</td>\n",
       "      <td>Midfielder</td>\n",
       "      <td>-1</td>\n",
       "    </tr>\n",
       "    <tr>\n",
       "      <th>70</th>\n",
       "      <td>14.56</td>\n",
       "      <td>9.26</td>\n",
       "      <td>716.03</td>\n",
       "      <td>3.97</td>\n",
       "      <td>25.15</td>\n",
       "      <td>0</td>\n",
       "      <td>0.0</td>\n",
       "      <td>31</td>\n",
       "      <td>8</td>\n",
       "      <td>9.26</td>\n",
       "      <td>0</td>\n",
       "      <td>0</td>\n",
       "      <td>3.97</td>\n",
       "      <td>30.44</td>\n",
       "      <td>68</td>\n",
       "      <td>L. Sane</td>\n",
       "      <td>Midfielder</td>\n",
       "      <td>0</td>\n",
       "    </tr>\n",
       "    <tr>\n",
       "      <th>71</th>\n",
       "      <td>13.85</td>\n",
       "      <td>9.23</td>\n",
       "      <td>693.46</td>\n",
       "      <td>3.46</td>\n",
       "      <td>23.08</td>\n",
       "      <td>1</td>\n",
       "      <td>0.0</td>\n",
       "      <td>37</td>\n",
       "      <td>9</td>\n",
       "      <td>9.23</td>\n",
       "      <td>0</td>\n",
       "      <td>0</td>\n",
       "      <td>5.77</td>\n",
       "      <td>27.69</td>\n",
       "      <td>78</td>\n",
       "      <td>R. Sterling</td>\n",
       "      <td>Forward</td>\n",
       "      <td>1</td>\n",
       "    </tr>\n",
       "    <tr>\n",
       "      <th>72</th>\n",
       "      <td>13.01</td>\n",
       "      <td>8.67</td>\n",
       "      <td>686.39</td>\n",
       "      <td>3.25</td>\n",
       "      <td>21.69</td>\n",
       "      <td>1</td>\n",
       "      <td>0.0</td>\n",
       "      <td>38</td>\n",
       "      <td>9</td>\n",
       "      <td>9.76</td>\n",
       "      <td>0</td>\n",
       "      <td>0</td>\n",
       "      <td>5.42</td>\n",
       "      <td>26.02</td>\n",
       "      <td>83</td>\n",
       "      <td>B. Silva</td>\n",
       "      <td>Midfielder</td>\n",
       "      <td>1</td>\n",
       "    </tr>\n",
       "  </tbody>\n",
       "</table>\n",
       "<p>73 rows × 18 columns</p>\n",
       "</div>"
      ],
      "text/plain": [
       "    shots_before_norm  shots_opp_before_norm  passes_all_before_norm  \\\n",
       "0                9.15                   4.58                  675.76   \n",
       "1               11.54                   6.92                  600.00   \n",
       "2               10.98                   6.59                  574.02   \n",
       "3               18.95                  14.21                  819.47   \n",
       "4               18.43                  14.10                  808.92   \n",
       "..                ...                    ...                     ...   \n",
       "68              16.62                  12.46                  481.85   \n",
       "69              15.65                  11.74                  487.83   \n",
       "70              14.56                   9.26                  716.03   \n",
       "71              13.85                   9.23                  693.46   \n",
       "72              13.01                   8.67                  686.39   \n",
       "\n",
       "    passes_keys_before_norm  passes_crosses_before_norm  \\\n",
       "0                      1.53                       22.88   \n",
       "1                      1.15                       23.08   \n",
       "2                      1.10                       21.95   \n",
       "3                      4.74                       18.95   \n",
       "4                      5.42                       17.35   \n",
       "..                      ...                         ...   \n",
       "68                     5.54                        9.69   \n",
       "69                     5.22                        9.13   \n",
       "70                     3.97                       25.15   \n",
       "71                     3.46                       23.08   \n",
       "72                     3.25                       21.69   \n",
       "\n",
       "    passes_assists_before  passes_opp_before_norm  freekicks_before  \\\n",
       "0                       0                     0.0                32   \n",
       "1                       0                     0.0                41   \n",
       "2                       0                     0.0                43   \n",
       "3                       3                     0.0                30   \n",
       "4                       3                     0.0                32   \n",
       "..                    ...                     ...               ...   \n",
       "68                      0                     0.0                42   \n",
       "69                      0                     0.0                46   \n",
       "70                      0                     0.0                31   \n",
       "71                      1                     0.0                37   \n",
       "72                      1                     0.0                38   \n",
       "\n",
       "    corners_before  accelerations_before_norm  yellow_cards_before  \\\n",
       "0                5                       9.15                    0   \n",
       "1                9                       9.23                    1   \n",
       "2                9                       8.78                    1   \n",
       "3                4                       4.74                    1   \n",
       "4                4                       4.34                    1   \n",
       "..             ...                        ...                  ...   \n",
       "68               5                       5.54                    2   \n",
       "69               5                       6.52                    2   \n",
       "70               8                       9.26                    0   \n",
       "71               9                       9.23                    0   \n",
       "72               9                       9.76                    0   \n",
       "\n",
       "    red_cards_before  save_attempts_before_norm  clearances_before_norm  min  \\\n",
       "0                  0                       0.00                   15.25   59   \n",
       "1                  0                       1.15                   18.46   78   \n",
       "2                  0                       1.10                   17.56   82   \n",
       "3                  0                       7.11                   22.50   76   \n",
       "4                  0                       7.59                   20.60   83   \n",
       "..               ...                        ...                     ...  ...   \n",
       "68                 0                       6.92                   19.38   65   \n",
       "69                 0                       6.52                   19.57   69   \n",
       "70                 0                       3.97                   30.44   68   \n",
       "71                 0                       5.77                   27.69   78   \n",
       "72                 0                       5.42                   26.02   83   \n",
       "\n",
       "    player_name player_role  diff_goals  \n",
       "0      G. Jesus     Forward           0  \n",
       "1       B. Diaz  Midfielder           0  \n",
       "2      P. Foden  Midfielder           0  \n",
       "3      B. Mendy    Defender           2  \n",
       "4       B. Diaz  Midfielder           2  \n",
       "..          ...         ...         ...  \n",
       "68    D. Danilo    Defender          -1  \n",
       "69     B. Silva  Midfielder          -1  \n",
       "70      L. Sane  Midfielder           0  \n",
       "71  R. Sterling     Forward           1  \n",
       "72     B. Silva  Midfielder           1  \n",
       "\n",
       "[73 rows x 18 columns]"
      ]
     },
     "execution_count": 402,
     "metadata": {},
     "output_type": "execute_result"
    }
   ],
   "source": [
    "X_train"
   ]
  },
  {
   "cell_type": "code",
   "execution_count": null,
   "metadata": {},
   "outputs": [],
   "source": []
  },
  {
   "cell_type": "markdown",
   "metadata": {},
   "source": [
    "**Feature Categorization**"
   ]
  },
  {
   "cell_type": "code",
   "execution_count": 405,
   "metadata": {
    "scrolled": true
   },
   "outputs": [],
   "source": [
    "\n",
    "categorical_cols = ['player_role', 'player_name']\n",
    "\n",
    "enc = OneHotEncoder(handle_unknown='ignore')\n",
    "enc.fit(X_train[categorical_cols].values)\n",
    "\n",
    "categorical_features_train = pd.DataFrame(enc.transform(X_train[categorical_cols].values).toarray())\n",
    "categorical_features_test = pd.DataFrame(enc.transform(X_test[categorical_cols].values).toarray())\n",
    "\n",
    "# rename columns\n",
    "categorical_features_train.columns = enc.get_feature_names(['pos', 'player'])\n",
    "categorical_features_test.columns = enc.get_feature_names(['pos', 'player'])\n",
    "\n",
    "# data\n",
    "X_train = pd.concat([X_train, categorical_features_train], axis=1).drop(categorical_cols, axis=1)\n",
    "X_test = pd.concat([X_test, categorical_features_test], axis=1).drop(categorical_cols, axis=1)"
   ]
  },
  {
   "cell_type": "code",
   "execution_count": 406,
   "metadata": {},
   "outputs": [
    {
     "data": {
      "text/html": [
       "<div>\n",
       "<style scoped>\n",
       "    .dataframe tbody tr th:only-of-type {\n",
       "        vertical-align: middle;\n",
       "    }\n",
       "\n",
       "    .dataframe tbody tr th {\n",
       "        vertical-align: top;\n",
       "    }\n",
       "\n",
       "    .dataframe thead th {\n",
       "        text-align: right;\n",
       "    }\n",
       "</style>\n",
       "<table border=\"1\" class=\"dataframe\">\n",
       "  <thead>\n",
       "    <tr style=\"text-align: right;\">\n",
       "      <th></th>\n",
       "      <th>shots_before_norm</th>\n",
       "      <th>shots_opp_before_norm</th>\n",
       "      <th>passes_all_before_norm</th>\n",
       "      <th>passes_keys_before_norm</th>\n",
       "      <th>passes_crosses_before_norm</th>\n",
       "      <th>passes_assists_before</th>\n",
       "      <th>passes_opp_before_norm</th>\n",
       "      <th>freekicks_before</th>\n",
       "      <th>corners_before</th>\n",
       "      <th>accelerations_before_norm</th>\n",
       "      <th>...</th>\n",
       "      <th>player_J. Stones</th>\n",
       "      <th>player_K. Bruyne</th>\n",
       "      <th>player_L. Nmecha</th>\n",
       "      <th>player_L. Sane</th>\n",
       "      <th>player_N. Otamendi</th>\n",
       "      <th>player_O. Zinchenko</th>\n",
       "      <th>player_P. Foden</th>\n",
       "      <th>player_R. Sterling</th>\n",
       "      <th>player_S. Aguero</th>\n",
       "      <th>player_Y. Toure</th>\n",
       "    </tr>\n",
       "  </thead>\n",
       "  <tbody>\n",
       "    <tr>\n",
       "      <th>0</th>\n",
       "      <td>9.15</td>\n",
       "      <td>4.58</td>\n",
       "      <td>675.76</td>\n",
       "      <td>1.53</td>\n",
       "      <td>22.88</td>\n",
       "      <td>0</td>\n",
       "      <td>0.0</td>\n",
       "      <td>32</td>\n",
       "      <td>5</td>\n",
       "      <td>9.15</td>\n",
       "      <td>...</td>\n",
       "      <td>0.0</td>\n",
       "      <td>0.0</td>\n",
       "      <td>0.0</td>\n",
       "      <td>0.0</td>\n",
       "      <td>0.0</td>\n",
       "      <td>0.0</td>\n",
       "      <td>0.0</td>\n",
       "      <td>0.0</td>\n",
       "      <td>0.0</td>\n",
       "      <td>0.0</td>\n",
       "    </tr>\n",
       "    <tr>\n",
       "      <th>1</th>\n",
       "      <td>11.54</td>\n",
       "      <td>6.92</td>\n",
       "      <td>600.00</td>\n",
       "      <td>1.15</td>\n",
       "      <td>23.08</td>\n",
       "      <td>0</td>\n",
       "      <td>0.0</td>\n",
       "      <td>41</td>\n",
       "      <td>9</td>\n",
       "      <td>9.23</td>\n",
       "      <td>...</td>\n",
       "      <td>0.0</td>\n",
       "      <td>0.0</td>\n",
       "      <td>0.0</td>\n",
       "      <td>0.0</td>\n",
       "      <td>0.0</td>\n",
       "      <td>0.0</td>\n",
       "      <td>0.0</td>\n",
       "      <td>0.0</td>\n",
       "      <td>0.0</td>\n",
       "      <td>0.0</td>\n",
       "    </tr>\n",
       "    <tr>\n",
       "      <th>2</th>\n",
       "      <td>10.98</td>\n",
       "      <td>6.59</td>\n",
       "      <td>574.02</td>\n",
       "      <td>1.10</td>\n",
       "      <td>21.95</td>\n",
       "      <td>0</td>\n",
       "      <td>0.0</td>\n",
       "      <td>43</td>\n",
       "      <td>9</td>\n",
       "      <td>8.78</td>\n",
       "      <td>...</td>\n",
       "      <td>0.0</td>\n",
       "      <td>0.0</td>\n",
       "      <td>0.0</td>\n",
       "      <td>0.0</td>\n",
       "      <td>0.0</td>\n",
       "      <td>0.0</td>\n",
       "      <td>1.0</td>\n",
       "      <td>0.0</td>\n",
       "      <td>0.0</td>\n",
       "      <td>0.0</td>\n",
       "    </tr>\n",
       "    <tr>\n",
       "      <th>3</th>\n",
       "      <td>18.95</td>\n",
       "      <td>14.21</td>\n",
       "      <td>819.47</td>\n",
       "      <td>4.74</td>\n",
       "      <td>18.95</td>\n",
       "      <td>3</td>\n",
       "      <td>0.0</td>\n",
       "      <td>30</td>\n",
       "      <td>4</td>\n",
       "      <td>4.74</td>\n",
       "      <td>...</td>\n",
       "      <td>0.0</td>\n",
       "      <td>0.0</td>\n",
       "      <td>0.0</td>\n",
       "      <td>0.0</td>\n",
       "      <td>0.0</td>\n",
       "      <td>0.0</td>\n",
       "      <td>0.0</td>\n",
       "      <td>0.0</td>\n",
       "      <td>0.0</td>\n",
       "      <td>0.0</td>\n",
       "    </tr>\n",
       "    <tr>\n",
       "      <th>4</th>\n",
       "      <td>18.43</td>\n",
       "      <td>14.10</td>\n",
       "      <td>808.92</td>\n",
       "      <td>5.42</td>\n",
       "      <td>17.35</td>\n",
       "      <td>3</td>\n",
       "      <td>0.0</td>\n",
       "      <td>32</td>\n",
       "      <td>4</td>\n",
       "      <td>4.34</td>\n",
       "      <td>...</td>\n",
       "      <td>0.0</td>\n",
       "      <td>0.0</td>\n",
       "      <td>0.0</td>\n",
       "      <td>0.0</td>\n",
       "      <td>0.0</td>\n",
       "      <td>0.0</td>\n",
       "      <td>0.0</td>\n",
       "      <td>0.0</td>\n",
       "      <td>0.0</td>\n",
       "      <td>0.0</td>\n",
       "    </tr>\n",
       "  </tbody>\n",
       "</table>\n",
       "<p>5 rows × 38 columns</p>\n",
       "</div>"
      ],
      "text/plain": [
       "   shots_before_norm  shots_opp_before_norm  passes_all_before_norm  \\\n",
       "0               9.15                   4.58                  675.76   \n",
       "1              11.54                   6.92                  600.00   \n",
       "2              10.98                   6.59                  574.02   \n",
       "3              18.95                  14.21                  819.47   \n",
       "4              18.43                  14.10                  808.92   \n",
       "\n",
       "   passes_keys_before_norm  passes_crosses_before_norm  passes_assists_before  \\\n",
       "0                     1.53                       22.88                      0   \n",
       "1                     1.15                       23.08                      0   \n",
       "2                     1.10                       21.95                      0   \n",
       "3                     4.74                       18.95                      3   \n",
       "4                     5.42                       17.35                      3   \n",
       "\n",
       "   passes_opp_before_norm  freekicks_before  corners_before  \\\n",
       "0                     0.0                32               5   \n",
       "1                     0.0                41               9   \n",
       "2                     0.0                43               9   \n",
       "3                     0.0                30               4   \n",
       "4                     0.0                32               4   \n",
       "\n",
       "   accelerations_before_norm  ...  player_J. Stones  player_K. Bruyne  \\\n",
       "0                       9.15  ...               0.0               0.0   \n",
       "1                       9.23  ...               0.0               0.0   \n",
       "2                       8.78  ...               0.0               0.0   \n",
       "3                       4.74  ...               0.0               0.0   \n",
       "4                       4.34  ...               0.0               0.0   \n",
       "\n",
       "   player_L. Nmecha  player_L. Sane  player_N. Otamendi  player_O. Zinchenko  \\\n",
       "0               0.0             0.0                 0.0                  0.0   \n",
       "1               0.0             0.0                 0.0                  0.0   \n",
       "2               0.0             0.0                 0.0                  0.0   \n",
       "3               0.0             0.0                 0.0                  0.0   \n",
       "4               0.0             0.0                 0.0                  0.0   \n",
       "\n",
       "   player_P. Foden  player_R. Sterling  player_S. Aguero  player_Y. Toure  \n",
       "0              0.0                 0.0               0.0              0.0  \n",
       "1              0.0                 0.0               0.0              0.0  \n",
       "2              1.0                 0.0               0.0              0.0  \n",
       "3              0.0                 0.0               0.0              0.0  \n",
       "4              0.0                 0.0               0.0              0.0  \n",
       "\n",
       "[5 rows x 38 columns]"
      ]
     },
     "execution_count": 406,
     "metadata": {},
     "output_type": "execute_result"
    }
   ],
   "source": [
    "X_train.head()"
   ]
  },
  {
   "cell_type": "code",
   "execution_count": null,
   "metadata": {},
   "outputs": [],
   "source": []
  },
  {
   "cell_type": "markdown",
   "metadata": {},
   "source": [
    "**Feature Reduction**"
   ]
  },
  {
   "cell_type": "code",
   "execution_count": 464,
   "metadata": {},
   "outputs": [
    {
     "name": "stdout",
     "output_type": "stream",
     "text": [
      "[0.98218139 0.00663424 0.00495564]\n",
      "0.9937712667054653\n"
     ]
    }
   ],
   "source": [
    "\n",
    "pca = PCA(n_components=3)\n",
    "pca.fit(X_train)\n",
    "\n",
    "X_train_reduced = pca.transform(X_train)\n",
    "X_test_reduced = pca.transform(X_test)\n",
    "\n",
    "print(pca.explained_variance_ratio_)\n",
    "print(pca.explained_variance_ratio_.cumsum()[-1])"
   ]
  },
  {
   "cell_type": "markdown",
   "metadata": {},
   "source": [
    "By analysing the variance explained by PCA, we can conclude that the 3 dimensions can be a good representation of the original features"
   ]
  },
  {
   "cell_type": "code",
   "execution_count": null,
   "metadata": {},
   "outputs": [],
   "source": []
  },
  {
   "cell_type": "markdown",
   "metadata": {},
   "source": [
    "**Model**"
   ]
  },
  {
   "cell_type": "code",
   "execution_count": 408,
   "metadata": {},
   "outputs": [],
   "source": [
    "# Model\n",
    "\n",
    "model = SVR()\n",
    "model.fit(X_train_reduced, y_train)\n",
    "\n",
    "y_pred = model.predict(X_test_reduced)"
   ]
  },
  {
   "cell_type": "code",
   "execution_count": 409,
   "metadata": {},
   "outputs": [
    {
     "data": {
      "text/plain": [
       "0.3353925013782244"
      ]
     },
     "execution_count": 409,
     "metadata": {},
     "output_type": "execute_result"
    }
   ],
   "source": [
    "mean_squared_error(y_test, y_pred, squared=True)"
   ]
  },
  {
   "cell_type": "markdown",
   "metadata": {},
   "source": [
    "By analysing the RMSE, we can see that, in average, the model fails to predict the correct score by a margin of 0.33.\n",
    "This seems to be an interesting result, however, as we concluded before, normally, the substitutions did not bring much value/impact on the teams game (they had it already under control). Thus, the ratings (as we also saw) are around 6, which is why the results will be reasonable (as there were not much outstanders/outliers)\n",
    "\n",
    "The lack of data representativity (team bias) and amount of data also made, probably, the model overfit. Therefore, the use of more data shoud be helpfull to validate the results obtained."
   ]
  },
  {
   "cell_type": "code",
   "execution_count": null,
   "metadata": {},
   "outputs": [],
   "source": []
  },
  {
   "cell_type": "code",
   "execution_count": null,
   "metadata": {},
   "outputs": [],
   "source": []
  },
  {
   "cell_type": "code",
   "execution_count": 413,
   "metadata": {},
   "outputs": [
    {
     "data": {
      "text/plain": [
       "array([6.32102451, 6.32099113, 6.32074973, 6.32098205, 6.32073225])"
      ]
     },
     "execution_count": 413,
     "metadata": {},
     "output_type": "execute_result"
    }
   ],
   "source": [
    "# example on the application of the model, for a given game scenario\n",
    "\n",
    "example_df = X.iloc[test_index, :].iloc[[-3], :].copy()\n",
    "\n",
    "example_df = example_df.append([example_df]*4,ignore_index=True)\n",
    "\n",
    "example_df[['player_name', 'player_role']] = [\n",
    "    ['R. Sterling', 'Forward'],\n",
    "    ['E. Mangala', 'Defender'],\n",
    "    ['L. Sane', 'Midfielder'],\n",
    "    ['S. Aguero', 'Forward'],\n",
    "    ['F. Delph', 'Midfielder']\n",
    "]\n",
    "\n",
    "# process and predict\n",
    "example_df.drop(['home', 'other_team', 'shots_goals_before', 'shots_goals_against_before'], axis=1, inplace=True)\n",
    "\n",
    "categorical_features_ex = pd.DataFrame(enc.transform(example_df[categorical_cols].values).toarray())\n",
    "example_df = pd.concat([example_df, categorical_features_ex], axis=1).drop(categorical_cols, axis=1)\n",
    "\n",
    "example_df_reduced = pca.transform(example_df)\n",
    "\n",
    "model.predict(example_df_reduced)"
   ]
  },
  {
   "cell_type": "code",
   "execution_count": null,
   "metadata": {},
   "outputs": [],
   "source": []
  },
  {
   "cell_type": "markdown",
   "metadata": {},
   "source": [
    "## Feature Importance"
   ]
  },
  {
   "cell_type": "code",
   "execution_count": 415,
   "metadata": {},
   "outputs": [
    {
     "name": "stdout",
     "output_type": "stream",
     "text": [
      "Feature player_K. Bruyne:, Score: 0.43760\n",
      "Feature red_cards_before:, Score: 0.37185\n",
      "Feature player_L. Sane:, Score: 0.30011\n",
      "Feature player_J. Stones:, Score: 0.25622\n",
      "Feature player_R. Sterling:, Score: 0.23588\n",
      "Feature player_O. Zinchenko:, Score: 0.22806\n",
      "Feature player_S. Aguero:, Score: 0.11011\n",
      "Feature pos_Midfielder:, Score: 0.06691\n",
      "Feature shots_opp_before_norm:, Score: 0.06142\n",
      "Feature player_B. Silva:, Score: 0.05881\n",
      "Feature pos_Forward:, Score: 0.05129\n",
      "Feature player_B. Mendy:, Score: 0.02929\n",
      "Feature freekicks_before:, Score: 0.01455\n",
      "Feature passes_assists_before:, Score: 0.01423\n",
      "Feature save_attempts_before_norm:, Score: 0.00926\n",
      "Feature passes_all_before_norm:, Score: 0.00075\n",
      "Feature corners_before:, Score: 0.00014\n",
      "Feature passes_opp_before_norm:, Score: 0.00000\n",
      "Feature player_P. Foden:, Score: -0.00009\n",
      "Feature passes_crosses_before_norm:, Score: -0.00323\n",
      "Feature clearances_before_norm:, Score: -0.00868\n",
      "Feature player_B. Diaz:, Score: -0.00970\n",
      "Feature accelerations_before_norm:, Score: -0.01434\n",
      "Feature player_D. Danilo:, Score: -0.01870\n",
      "Feature yellow_cards_before:, Score: -0.02789\n",
      "Feature min:, Score: -0.03254\n",
      "Feature diff_goals:, Score: -0.05483\n",
      "Feature shots_before_norm:, Score: -0.05485\n",
      "Feature passes_keys_before_norm:, Score: -0.05880\n",
      "Feature player_Y. Toure:, Score: -0.10513\n",
      "Feature player_F. Fernandinho:, Score: -0.11365\n",
      "Feature player_L. Nmecha:, Score: -0.11701\n",
      "Feature pos_Defender:, Score: -0.11820\n",
      "Feature player_N. Otamendi:, Score: -0.16332\n",
      "Feature player_G. Jesus:, Score: -0.17769\n",
      "Feature player_I. Gundogan:, Score: -0.18619\n",
      "Feature player_E. Mangala:, Score: -0.22169\n",
      "Feature player_D. Silva:, Score: -0.54291\n"
     ]
    }
   ],
   "source": [
    "model = LinearRegression()\n",
    "model.fit(X_train, y_train)\n",
    "\n",
    "importance = model.coef_\n",
    "inds = importance.argsort()[::-1]\n",
    "\n",
    "cols = X_train.columns.values[inds]\n",
    "for i,v in enumerate(importance[inds]):\n",
    "    print('Feature %s:, Score: %.5f' % (cols[i],v))"
   ]
  },
  {
   "cell_type": "markdown",
   "metadata": {},
   "source": [
    "\n",
    "By analysing the feature importance using a Linear Regression, we can clearly see that the number of red cards and some players have a greater tendency in having a positive score (which means they help the team). This indeed makes sense, as, for example, De Bruyne was considered the best playmaker, and the second one was Sané. Aguero was also one of the top scorers."
   ]
  },
  {
   "cell_type": "code",
   "execution_count": null,
   "metadata": {},
   "outputs": [],
   "source": []
  }
 ],
 "metadata": {
  "kernelspec": {
   "display_name": "Python 3",
   "language": "python",
   "name": "python3"
  },
  "language_info": {
   "codemirror_mode": {
    "name": "ipython",
    "version": 3
   },
   "file_extension": ".py",
   "mimetype": "text/x-python",
   "name": "python",
   "nbconvert_exporter": "python",
   "pygments_lexer": "ipython3",
   "version": "3.6.3"
  }
 },
 "nbformat": 4,
 "nbformat_minor": 4
}
