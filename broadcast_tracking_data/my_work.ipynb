{
 "cells": [
  {
   "cell_type": "markdown",
   "metadata": {},
   "source": [
    "# This notebook focus on the analysis of **Football Tracking data** made available by **SkillCorner**\n",
    "\n",
    "Some of the explored topics in this notebook are: Ball possession, Players Heatmap and Game stats extraction\n",
    "\n",
    "The data can be accessed here: https://github.com/SkillCorner/opendata.\n",
    "<br>\n",
    "The frame plots were made based on Laurie vizualization code (https://github.com/Friends-of-Tracking-Data-FoTD/LaurieOnTracking)."
   ]
  },
  {
   "cell_type": "markdown",
   "metadata": {},
   "source": [
    "## Load data"
   ]
  },
  {
   "cell_type": "code",
   "execution_count": 1,
   "metadata": {},
   "outputs": [],
   "source": [
    "import json\n",
    "\n",
    "import LaurieOnTracking_SourceCode.Metrica_Viz as mviz\n",
    "\n",
    "import matplotlib.pyplot as plt\n",
    "import numpy as np\n",
    "import math\n",
    "\n",
    "import time\n",
    "import matplotlib.cm as cm\n",
    "\n",
    "import cv2\n",
    "import glob\n",
    "\n",
    "import pandas as pd"
   ]
  },
  {
   "cell_type": "code",
   "execution_count": null,
   "metadata": {},
   "outputs": [],
   "source": []
  },
  {
   "cell_type": "code",
   "execution_count": 2,
   "metadata": {},
   "outputs": [],
   "source": [
    "\n",
    "with open('path/data/matches.json') as f:\n",
    "    matches = json.load(f)\n",
    "\n",
    "with open('path/data/matches/3442/match_data.json') as f:\n",
    "    match_data = json.load(f)\n",
    "    \n",
    "with open('path/data/matches/3442/structured_data.json') as f:\n",
    "    structured_data = json.load(f)\n"
   ]
  },
  {
   "cell_type": "code",
   "execution_count": null,
   "metadata": {},
   "outputs": [],
   "source": []
  },
  {
   "cell_type": "markdown",
   "metadata": {},
   "source": [
    "## Plot a given frame\n",
    "\n",
    "Based on the players positions, the match frames will be plotted using Laurie code, obtained from https://github.com/Friends-of-Tracking-Data-FoTD/LaurieOnTracking"
   ]
  },
  {
   "cell_type": "code",
   "execution_count": 58,
   "metadata": {},
   "outputs": [],
   "source": [
    "def get_players_name(data):\n",
    "    p_names_ids = {}\n",
    "    \n",
    "    for p in data:\n",
    "        n = p['last_name']\n",
    "        p_names_ids[n] = p['trackable_object']\n",
    "    return p_names_ids\n",
    "\n",
    "\n",
    "def get_players_details(data):\n",
    "    p_numbers = {}\n",
    "    for p in data:\n",
    "        if p['team_id'] == match_data['home_team']['id']:\n",
    "            p_numbers[p['trackable_object']] = [0, p['number']]\n",
    "        elif p['team_id'] == match_data['away_team']['id']:\n",
    "            p_numbers[p['trackable_object']] = [1, p['number']]\n",
    "    return p_numbers\n",
    "\n",
    "\n",
    "#convert data into Laurie sturcture, in order to call his function\n",
    "def convert_format(frame_data, player_details, home_team = 0):\n",
    "    new_format = pd.Series()\n",
    "    \n",
    "    new_format.at['Period'] = frame_data['period']\n",
    "    new_format.at['Time [s]'] = frame_data['time']\n",
    "    \n",
    "    for p in frame_data['data']:\n",
    "        \n",
    "        if 'trackable_object' not in p:\n",
    "            continue\n",
    "            \n",
    "        #ball\n",
    "        elif p['trackable_object'] == 55:\n",
    "            new_format.at['ball_x'] = p['x']\n",
    "            new_format.at['ball_y'] = p['y']\n",
    "            \n",
    "        #referee\n",
    "        #elif p['trackable_object'] == 11513:\n",
    "        elif p['trackable_object'] == 11331:\n",
    "            continue\n",
    "            \n",
    "        #players of desired team\n",
    "        elif player_details[p['trackable_object']][0] == home_team:\n",
    "            new_format.at['Home_' + str(player_details[p['trackable_object']][1]) + '_x'] = p['x']\n",
    "            new_format.at['Home_' + str(player_details[p['trackable_object']][1]) + '_y'] = p['y']\n",
    "    \n",
    "    #default ball position is on the center of the field\n",
    "    if 'ball_x' not in new_format or 'ball_y' not in new_format:\n",
    "        new_format.at['ball_x'] = 0\n",
    "        new_format.at['ball_y'] = 0\n",
    "        \n",
    "    \n",
    "    return new_format\n",
    "    \n",
    "\n",
    "def plot_frame(frame_data):\n",
    "    frame_data = structured_data[17700]\n",
    "\n",
    "    player_details = get_players_details(match_data['players'])\n",
    "\n",
    "    home_data = convert_format(frame_data, player_details, 0)\n",
    "    away_data = convert_format(frame_data, player_details, 1)\n",
    "\n",
    "    print('Time: ', home_data['Time [s]'])\n",
    "\n",
    "    fig,ax = mviz.plot_frame(home_data, away_data, annotate=True)\n",
    "    plt.show()\n"
   ]
  },
  {
   "cell_type": "code",
   "execution_count": 59,
   "metadata": {},
   "outputs": [
    {
     "name": "stdout",
     "output_type": "stream",
     "text": [
      "Time:  27:54.10\n"
     ]
    },
    {
     "data": {
      "image/png": "[encoded data removed]",
      "text/plain": [
       "<Figure size 864x576 with 1 Axes>"
      ]
     },
     "metadata": {},
     "output_type": "display_data"
    }
   ],
   "source": [
    "#Plot football frame\n",
    "\n",
    "plot_frame(structured_data)"
   ]
  },
  {
   "cell_type": "code",
   "execution_count": 291,
   "metadata": {},
   "outputs": [],
   "source": []
  },
  {
   "cell_type": "markdown",
   "metadata": {},
   "source": [
    "**Play and Save Sequence of Frames**"
   ]
  },
  {
   "cell_type": "code",
   "execution_count": 60,
   "metadata": {},
   "outputs": [],
   "source": [
    "#Create video from images on path\n",
    "def save_play(name, path, fps):\n",
    "\n",
    "    img_array = []\n",
    "    for filename in sorted(glob.glob(path)):\n",
    "        img = cv2.imread(filename)\n",
    "        height, width, layers = img.shape\n",
    "        size = (width,height)\n",
    "        img_array.append(img)\n",
    "\n",
    "    out = cv2.VideoWriter(name,cv2.VideoWriter_fourcc(*'MP4V'), fps, size)\n",
    "\n",
    "    for i in range(len(img_array)):\n",
    "        out.write(img_array[i])\n",
    "    out.release()\n",
    "\n",
    "#Create images and then produce video of the game play for interval of frames [init_f, end_f]\n",
    "def run_football_move(structured_data, match_data, init_f, end_f, fps, path):\n",
    "    \n",
    "    for ind, f in enumerate(range(init_f, end_f, fps)):\n",
    "\n",
    "        frame_data = structured_data[f]\n",
    "\n",
    "        player_details = get_players_details(match_data['players'])\n",
    "\n",
    "        home_data = convert_format(frame_data, player_details, 1)\n",
    "        away_data = convert_format(frame_data, player_details, 0)\n",
    "\n",
    "        fig,ax = mviz.plot_frame(home_data, away_data, annotate=True)\n",
    "\n",
    "        # place a text box in upper left in axes coords\n",
    "        textstr = 'Time: ' + home_data['Time [s]']\n",
    "        props = dict(boxstyle='round', facecolor='#eeefff', alpha=0.7)\n",
    "        ax.text(0.04, 0.94, textstr, transform=ax.transAxes, fontsize=14,\n",
    "                verticalalignment='top', bbox=props)\n",
    "\n",
    "\n",
    "        plt.savefig(path + \"/file%04d.png\" % ind)\n",
    "        \n",
    "        plt.clf()\n",
    "        plt.close()\n",
    "    \n",
    "    plt.clf()\n",
    "    plt.close()\n",
    "    \n",
    "    save_play('play_move.mp4', path+'/*.png', int(10/fps))\n",
    "    \n",
    "plt.clf()\n",
    "plt.close()\n",
    "\n",
    "run_football_move(structured_data, match_data, 17700, 18000, 2, \"path/imgs\")"
   ]
  },
  {
   "cell_type": "code",
   "execution_count": null,
   "metadata": {},
   "outputs": [],
   "source": []
  },
  {
   "cell_type": "code",
   "execution_count": null,
   "metadata": {},
   "outputs": [],
   "source": []
  },
  {
   "cell_type": "markdown",
   "metadata": {},
   "source": [
    "## Possession Analysis"
   ]
  },
  {
   "cell_type": "code",
   "execution_count": 5,
   "metadata": {},
   "outputs": [
    {
     "data": {
      "text/html": [
       "<div>\n",
       "<style scoped>\n",
       "    .dataframe tbody tr th:only-of-type {\n",
       "        vertical-align: middle;\n",
       "    }\n",
       "\n",
       "    .dataframe tbody tr th {\n",
       "        vertical-align: top;\n",
       "    }\n",
       "\n",
       "    .dataframe thead th {\n",
       "        text-align: right;\n",
       "    }\n",
       "</style>\n",
       "<table border=\"1\" class=\"dataframe\">\n",
       "  <thead>\n",
       "    <tr style=\"text-align: right;\">\n",
       "      <th></th>\n",
       "      <th>Name</th>\n",
       "      <th>Possession</th>\n",
       "      <th>TeamId</th>\n",
       "    </tr>\n",
       "  </thead>\n",
       "  <tbody>\n",
       "    <tr>\n",
       "      <th>0</th>\n",
       "      <td>Gerard Pique</td>\n",
       "      <td>0.102028</td>\n",
       "      <td>264</td>\n",
       "    </tr>\n",
       "    <tr>\n",
       "      <th>1</th>\n",
       "      <td>Samuel Umtiti</td>\n",
       "      <td>0.0982704</td>\n",
       "      <td>264</td>\n",
       "    </tr>\n",
       "    <tr>\n",
       "      <th>2</th>\n",
       "      <td>Frenkie de Jong</td>\n",
       "      <td>0.0697674</td>\n",
       "      <td>264</td>\n",
       "    </tr>\n",
       "    <tr>\n",
       "      <th>3</th>\n",
       "      <td>Marcelo</td>\n",
       "      <td>0.0636782</td>\n",
       "      <td>262</td>\n",
       "    </tr>\n",
       "    <tr>\n",
       "      <th>4</th>\n",
       "      <td>Toni Kroos</td>\n",
       "      <td>0.0626417</td>\n",
       "      <td>262</td>\n",
       "    </tr>\n",
       "  </tbody>\n",
       "</table>\n",
       "</div>"
      ],
      "text/plain": [
       "              Name Possession TeamId\n",
       "0     Gerard Pique   0.102028    264\n",
       "1    Samuel Umtiti  0.0982704    264\n",
       "2  Frenkie de Jong  0.0697674    264\n",
       "3          Marcelo  0.0636782    262\n",
       "4       Toni Kroos  0.0626417    262"
      ]
     },
     "execution_count": 5,
     "metadata": {},
     "output_type": "execute_result"
    }
   ],
   "source": [
    "\n",
    "# count the number of frames in which is player has the ball possession\n",
    "p_counter = {}\n",
    "for f in structured_data:\n",
    "    \n",
    "    t_obj = f['possession']['trackable_object']\n",
    "    \n",
    "    if t_obj != None:\n",
    "        \n",
    "        if t_obj not in p_counter:\n",
    "            p_counter[t_obj] = 0\n",
    "        else:\n",
    "            p_counter[t_obj] += 1\n",
    "\n",
    "# create a dataframe with the percentage of possession of each player\n",
    "possession_df = pd.DataFrame([], columns=['Name', 'Possession', 'TeamId'])\n",
    "\n",
    "for p in match_data['players']:\n",
    "    if p['trackable_object'] in list(p_counter.keys()):\n",
    "        n = p['first_name'] + ' ' + p['last_name']\n",
    "        n = n.strip()\n",
    "        #n = p['last_name']\n",
    "        \n",
    "        new_row = {'Name': n, 'Possession': p_counter[p['trackable_object']], 'TeamId': p['team_id']}\n",
    "        \n",
    "        possession_df = possession_df.append(new_row, ignore_index=True)\n",
    "\n",
    "#convert into percentage\n",
    "possession_df['Possession'] = possession_df['Possession']/possession_df['Possession'].sum()\n",
    "\n",
    "#sort and re-index dataframe\n",
    "possession_df.sort_values(by=['Possession'], ascending=False, inplace=True)\n",
    "possession_df.reset_index(inplace=True, drop=True)\n",
    "\n",
    "possession_df.head()"
   ]
  },
  {
   "cell_type": "code",
   "execution_count": null,
   "metadata": {},
   "outputs": [],
   "source": []
  },
  {
   "cell_type": "code",
   "execution_count": 6,
   "metadata": {},
   "outputs": [
    {
     "data": {
      "image/png": "[encoded data removed]",
      "text/plain": [
       "<Figure size 1080x576 with 1 Axes>"
      ]
     },
     "metadata": {},
     "output_type": "display_data"
    }
   ],
   "source": [
    "#Plot Players Possessions\n",
    "\n",
    "plt.figure(figsize=(15, 8))\n",
    "plt.bar(possession_df['Name'], possession_df['Possession'])\n",
    "plt.title('Possession of each Player')\n",
    "plt.xticks(rotation=90)\n",
    "plt.ylabel('Possession (%)')\n",
    "plt.xlabel('Players')\n",
    "plt.show()"
   ]
  },
  {
   "cell_type": "code",
   "execution_count": null,
   "metadata": {},
   "outputs": [],
   "source": []
  },
  {
   "cell_type": "code",
   "execution_count": null,
   "metadata": {},
   "outputs": [],
   "source": []
  },
  {
   "cell_type": "markdown",
   "metadata": {},
   "source": [
    "## Frequency Heat Map"
   ]
  },
  {
   "cell_type": "code",
   "execution_count": 7,
   "metadata": {},
   "outputs": [
    {
     "data": {
      "image/png": "[encoded data removed]",
      "text/plain": [
       "<Figure size 864x576 with 1 Axes>"
      ]
     },
     "metadata": {},
     "output_type": "display_data"
    }
   ],
   "source": [
    "#plot heat map\n",
    "def plot_heatmap(p_id, data):\n",
    "    \n",
    "    xx = np.array([])\n",
    "    yy = np.array([])\n",
    "    for f in data:\n",
    "        if len(f['data']) == 0:\n",
    "            continue\n",
    "            \n",
    "        for p in f['data']:\n",
    "            if 'trackable_object' in p and p['trackable_object'] == p_id:\n",
    "                if f['period'] == 1:\n",
    "                    xx = np.append(xx, -p['x'])\n",
    "                    yy = np.append(yy, -p['y'])\n",
    "                    \n",
    "                elif f['period'] == 2:\n",
    "                    xx = np.append(xx, p['x'])\n",
    "                    yy = np.append(yy, p['y'])\n",
    "                \n",
    "    \n",
    "    return xx, yy\n",
    "\n",
    "p_names_ids = get_players_name(match_data['players'])\n",
    "\n",
    "p_name = 'Vinicius'\n",
    "p_id = p_names_ids[p_name]\n",
    "\n",
    "#get xx and yy data of a given player\n",
    "xx, yy = plot_heatmap(p_id, structured_data)\n",
    "\n",
    "\n",
    "#plot heatmap\n",
    "field_dim = (106.0,68.0)\n",
    "heatmap, xedges, yedges = np.histogram2d(xx, yy, bins=50)\n",
    "extent = [-field_dim[0]/2, field_dim[0]/2, -field_dim[1]/2, field_dim[1]/2]\n",
    "\n",
    "fig, ax = mviz.plot_pitch(field_dimen = field_dim)\n",
    "\n",
    "ax.imshow(heatmap.T, cmap='Greens_r', extent=extent, origin='lower')\n",
    "ax.set_title(p_name + ' Heatmap')\n",
    "plt.show()"
   ]
  },
  {
   "cell_type": "code",
   "execution_count": null,
   "metadata": {},
   "outputs": [],
   "source": []
  },
  {
   "cell_type": "code",
   "execution_count": null,
   "metadata": {},
   "outputs": [],
   "source": []
  },
  {
   "cell_type": "markdown",
   "metadata": {},
   "source": [
    "## Football Stats Extraction - Work in Progress\n",
    "\n",
    "Based on the tracking data, some stats will be extracted, namelly ***ball possession, shots, shots on target, corners and passes***"
   ]
  },
  {
   "cell_type": "code",
   "execution_count": 8,
   "metadata": {},
   "outputs": [],
   "source": [
    "def find_play_directions(data):\n",
    "    home_team_start, left_to_right = 'away team', 0\n",
    "\n",
    "    for s in data:\n",
    "        if s['time'] == '0:00.00':\n",
    "\n",
    "            if s['possession']['group'] == 'home team':\n",
    "                home_team_start = 'home team'\n",
    "\n",
    "            if s['data'][0]['x'] < 0:\n",
    "                left_to_right = 1\n",
    "    \n",
    "    return home_team_start, left_to_right\n",
    " \n",
    "    \n",
    "home_team_start, left_to_right = find_play_directions(structured_data)"
   ]
  },
  {
   "cell_type": "code",
   "execution_count": null,
   "metadata": {},
   "outputs": [],
   "source": []
  },
  {
   "cell_type": "markdown",
   "metadata": {},
   "source": [
    "### Ball Possession\n"
   ]
  },
  {
   "cell_type": "code",
   "execution_count": 9,
   "metadata": {},
   "outputs": [
    {
     "data": {
      "text/plain": [
       "TeamId\n",
       "262    0.4\n",
       "264    0.6\n",
       "Name: Possession, dtype: float64"
      ]
     },
     "execution_count": 9,
     "metadata": {},
     "output_type": "execute_result"
    }
   ],
   "source": [
    "possession_df.groupby('TeamId')['Possession'].sum().round(3)"
   ]
  },
  {
   "cell_type": "code",
   "execution_count": null,
   "metadata": {},
   "outputs": [],
   "source": []
  },
  {
   "cell_type": "markdown",
   "metadata": {},
   "source": [
    "### Shots\n",
    "\n",
    "It is considered a shot if:\n",
    "- the ball crosses the final line\n",
    "- the last player in possession of the ball is of the attacking team\n",
    "- the ball approaches the final line with a given speed (>10 m/s)"
   ]
  },
  {
   "cell_type": "code",
   "execution_count": 10,
   "metadata": {},
   "outputs": [],
   "source": [
    "\n",
    "#return ball position for moves with someone in possession\n",
    "def get_ball_moves(data):\n",
    "    \n",
    "    pos = {}\n",
    "    \n",
    "    for s in data:\n",
    "        \n",
    "        for f in s['data']:\n",
    "            \n",
    "            if 'trackable_object' in f and f['trackable_object'] == 55 and s['possession']['group'] != None:\n",
    "                \n",
    "                if f['track_id'] in pos:\n",
    "                    pos[f['track_id']]['x_y'].append([f['x'], f['y']])\n",
    "                    pos[f['track_id']]['time'] = s['time']\n",
    "                else:\n",
    "                    pos[f['track_id']] = {}\n",
    "                    pos[f['track_id']]['poss'] = s['possession']\n",
    "                    pos[f['track_id']]['period'] = s['period']\n",
    "                    pos[f['track_id']]['x_y'] = [[f['x'], f['y']]]\n",
    "                    \n",
    "    \n",
    "    return pos\n",
    "\n",
    "ball_moves = get_ball_moves(structured_data)"
   ]
  },
  {
   "cell_type": "code",
   "execution_count": null,
   "metadata": {},
   "outputs": [],
   "source": []
  },
  {
   "cell_type": "markdown",
   "metadata": {},
   "source": [
    "### Corners"
   ]
  },
  {
   "cell_type": "markdown",
   "metadata": {},
   "source": [
    "### Passes (number and then accuracy)\n",
    "\n",
    "based on the trackable possession change"
   ]
  },
  {
   "cell_type": "markdown",
   "metadata": {},
   "source": [
    "### Gathering all Stats..."
   ]
  }
 ],
 "metadata": {
  "kernelspec": {
   "display_name": "Python 3",
   "language": "python",
   "name": "python3"
  },
  "language_info": {
   "codemirror_mode": {
    "name": "ipython",
    "version": 3
   },
   "file_extension": ".py",
   "mimetype": "text/x-python",
   "name": "python",
   "nbconvert_exporter": "python",
   "pygments_lexer": "ipython3",
   "version": "3.6.3"
  }
 },
 "nbformat": 4,
 "nbformat_minor": 4
}
